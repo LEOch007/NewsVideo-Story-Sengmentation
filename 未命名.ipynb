{
 "cells": [
  {
   "cell_type": "code",
   "execution_count": 1,
   "metadata": {},
   "outputs": [],
   "source": [
    "import pandas as pd\n",
    "from sklearn.model_selection import train_test_split\n",
    "from sklearn import ensemble\n",
    "import numpy as np\n",
    "import matplotlib.pyplot as plt\n",
    "\n",
    "# constant parameters\n",
    "gt_path = './data/gt_file_path'\n",
    "feature_path = './data/output/'\n",
    "\n",
    "\n",
    "# get file name\n",
    "def get_name(t):\n",
    "    return 'hdcctv1_' + t[0].split('/')[-1]\n",
    "\n",
    "# concat dataframes on the basis of 'bg' timestamp\n",
    "def data_concat(gt_file_path_list,file_name_list):\n",
    "    label_value = pd.read_csv(gt_file_path_list.iloc[0][0], header=None, skiprows=1, sep=' ',\n",
    "                              names=['bg', 'label']).set_index('bg')\n",
    "    feature_vector = pd.read_csv(feature_path + file_name_list.iloc[0], header=None).set_index(0)\n",
    "    X = feature_vector.join(label_value)\n",
    "    for i in range(1, file_name_list.shape[0]):\n",
    "        label_value = pd.read_csv(gt_file_path_list.iloc[0][0], header=None, skiprows=1, sep=' ',\n",
    "                                  names=['bg', 'label']).set_index('bg')\n",
    "        feature_vector = pd.read_csv(feature_path + file_name_list.iloc[0], header=None).set_index(0)\n",
    "        df = feature_vector.join(label_value)\n",
    "        X = pd.concat([X, df], axis=0)\n",
    "    X = X.dropna()  # ignore NaN vector\n",
    "    X.index.names = ['bg']\n",
    "    return X\n",
    "\n",
    "\n",
    "# get training-set & validation-set\n",
    "def get_train_vali(X,rate,seed):\n",
    "    tt, vv = train_test_split(X, test_size=rate, random_state=seed)\n",
    "    x_train, x_vali = tt.drop(columns='label'), vv.drop(columns='label')\n",
    "    y_train,y_vali = tt['label'], vv['label']\n",
    "    return x_train,y_train, x_vali,y_vali\n",
    "\n",
    "\n",
    "# try machine learning methods\n",
    "def try_different_model(model_, x_train,y_train, x_vali,y_vali, model_name):\n",
    "    model_.fit(x_train, y_train)     # training process\n",
    "    score = model_.score(x_vali, y_vali) # evaluation\n",
    "    self_score = model_.score(x_train, y_train)  # self evaluation\n",
    "    return [score, self_score]\n",
    "\n",
    "\n",
    "gt_file_path_list = pd.read_csv(gt_path,header=None)\n",
    "file_name_list = gt_file_path_list.apply(get_name,axis=1)\n",
    "\n",
    "# get the whole matrix\n",
    "data = data_concat(gt_file_path_list, file_name_list)\n",
    "# # hold-out method: 30%\n",
    "# x_train, y_train, x_vali, y_vali = get_train_vali(data,rate=0.3,seed=4)\n",
    "\n",
    "\n",
    "# # random forest\n",
    "# model_= ensemble.RandomForestClassifier(oob_score=True,random_state=10,n_estimators=20)\n",
    "# # validation\n",
    "# scores = try_different_model(model_,x_train, y_train, x_vali, y_vali,'RandomForest')"
   ]
  },
  {
   "cell_type": "code",
   "execution_count": 2,
   "metadata": {},
   "outputs": [
    {
     "data": {
      "text/plain": [
       "(4994, 5)"
      ]
     },
     "execution_count": 2,
     "metadata": {},
     "output_type": "execute_result"
    }
   ],
   "source": [
    "data.shape"
   ]
  },
  {
   "cell_type": "code",
   "execution_count": 3,
   "metadata": {},
   "outputs": [
    {
     "name": "stdout",
     "output_type": "stream",
     "text": [
      "<class 'pandas.core.frame.DataFrame'>\n",
      "Int64Index: 4994 entries, 15 to 1787\n",
      "Data columns (total 5 columns):\n",
      "1        4994 non-null int64\n",
      "2        4994 non-null int64\n",
      "3        4994 non-null float64\n",
      "4        4994 non-null float64\n",
      "label    4994 non-null float64\n",
      "dtypes: float64(3), int64(2)\n",
      "memory usage: 234.1 KB\n"
     ]
    }
   ],
   "source": [
    "data.info()"
   ]
  },
  {
   "cell_type": "code",
   "execution_count": 22,
   "metadata": {},
   "outputs": [
    {
     "data": {
      "text/plain": [
       "1        0.050926\n",
       "2        0.050926\n",
       "3        0.050926\n",
       "4        0.050926\n",
       "label    0.050926\n",
       "dtype: float64"
      ]
     },
     "execution_count": 22,
     "metadata": {},
     "output_type": "execute_result"
    }
   ],
   "source": [
    "data[data['label']==1].count()/data[data['label']==0].count()"
   ]
  },
  {
   "cell_type": "code",
   "execution_count": 19,
   "metadata": {},
   "outputs": [
    {
     "name": "stdout",
     "output_type": "stream",
     "text": [
      "1.0\n"
     ]
    },
    {
     "data": {
      "text/plain": [
       "1.0"
      ]
     },
     "execution_count": 19,
     "metadata": {},
     "output_type": "execute_result"
    }
   ],
   "source": [
    "model = ensemble.RandomForestClassifier(oob_score=True,random_state=10,n_estimators=20)\n",
    "x_train, x_vali, y_train, y_vali = train_test_split(data[[1,2,3,4]],data['label'], test_size=0.3, random_state=4)\n",
    "model.fit(x_train,y_train.astype(int))\n",
    "from sklearn.metrics import accuracy_score\n",
    "print(accuracy_score(y_vali, model.predict(x_vali)))\n",
    "model.score(x_vali, y_vali.astype(int))"
   ]
  },
  {
   "cell_type": "code",
   "execution_count": null,
   "metadata": {},
   "outputs": [],
   "source": [
    "model = ensemble.DecisionTree(oob_score=True,random_state=10,n_estimators=20)\n",
    "x_train, x_vali, y_train, y_vali = train_test_split(data[[1,2,3,4]],data['label'], test_size=0.3, random_state=4)\n",
    "model.fit(x_train,y_train.astype(int))\n",
    "from sklearn.metrics import accuracy_score\n",
    "print(accuracy_score(y_vali, model.predict(x_vali)))\n",
    "model.score(x_vali, y_vali.astype(int))"
   ]
  }
 ],
 "metadata": {
  "kernelspec": {
   "display_name": "Python 3",
   "language": "python",
   "name": "python3"
  },
  "language_info": {
   "codemirror_mode": {
    "name": "ipython",
    "version": 3
   },
   "file_extension": ".py",
   "mimetype": "text/x-python",
   "name": "python",
   "nbconvert_exporter": "python",
   "pygments_lexer": "ipython3",
   "version": "3.7.3"
  }
 },
 "nbformat": 4,
 "nbformat_minor": 2
}
