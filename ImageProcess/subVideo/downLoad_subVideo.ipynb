{
 "cells": [
  {
   "cell_type": "code",
   "execution_count": 1,
   "metadata": {},
   "outputs": [],
   "source": [
    "import urllib.request\n",
    "import os\n",
    "\n",
    "import cv2\n",
    "import numpy as np"
   ]
  },
  {
   "cell_type": "code",
   "execution_count": 2,
   "metadata": {},
   "outputs": [],
   "source": [
    "#  modify url_base to get different subVideo from whole video\n",
    "url_base = 'http://hls.cntv.myalicdn.com/asp/hls/1200/0303000a/3/default/5af52768f77e4bbc9f3fb5c3e8027c8e/'\n",
    "# 20180104\n",
    "# http://hls.cntv.myalicdn.com/asp/hls/1200/0303000a/3/default/5af52768f77e4bbc9f3fb5c3e8027c8e/0.ts\n",
    "outputVideoFileName = 'completed_video.avi'"
   ]
  },
  {
   "cell_type": "code",
   "execution_count": 3,
   "metadata": {},
   "outputs": [],
   "source": [
    "count = 0\n",
    "while(True):\n",
    "    url_link = url_base + str(count) + '.ts'\n",
    "    try:\n",
    "        urllib.request.urlretrieve(url_link,str(count)+'.ts')\n",
    "        count += 1\n",
    "    except Exception as e:\n",
    "        break"
   ]
  },
  {
   "cell_type": "code",
   "execution_count": 4,
   "metadata": {},
   "outputs": [
    {
     "name": "stdout",
     "output_type": "stream",
     "text": [
      "180\n"
     ]
    }
   ],
   "source": [
    "print(count)"
   ]
  },
  {
   "cell_type": "code",
   "execution_count": 5,
   "metadata": {},
   "outputs": [],
   "source": [
    "#  get them together\n",
    "\n",
    "subVideo_startIndex = 0\n",
    "subVideo_endIndex = count  # 180\n",
    "subVideo_format = '.ts'\n",
    "#  将需要的ts子视频加入到列表中\n",
    "videoList = []  # 列表类型长度 => len(list)\n",
    "for i in range(subVideo_startIndex,subVideo_endIndex,1):  \n",
    "    videoList.append(cv2.VideoCapture(str(i)+subVideo_format))\n",
    "\n",
    "#  获取视频的基本信息。FPS，每一帧的高宽\n",
    "fps = videoList[0].get(cv2.CAP_PROP_FPS)\n",
    "size = int(videoList[0].get(cv2.CAP_PROP_FRAME_WIDTH)), int(videoList[0].get(cv2.CAP_PROP_FRAME_HEIGHT))  # 不可以是tuple类型\n",
    "\n",
    "#  通过基本信息构建视频写入对象\n",
    "videoWriter = cv2.VideoWriter(outputVideoFileName, cv2.VideoWriter_fourcc('M','P','4','2'),fps,size)\n",
    "\n",
    "#  循环遍历每一个子视频的frame\n",
    "#  ATTENTION! 每个子视频最后的frame是空的，作为EOF存在，但是success=True。所以要用空frame来判断当前视频是否结束\n",
    "for i in range(len(videoList)):\n",
    "    success, frame = videoList[i].read()\n",
    "    while (not not np.shape(frame)):  # not empty_list = True, 当列表为空时，true。多一个not，列表为空时F\n",
    "        videoWriter.write(frame)  # 写入所有notEOF-frame\n",
    "        success, frame = videoList[i].read()  # 读取当前视频的下一个Frame\n",
    "        \n",
    "#  不含如EOF-frame"
   ]
  }
 ],
 "metadata": {
  "kernelspec": {
   "display_name": "Python 3",
   "language": "python",
   "name": "python3"
  },
  "language_info": {
   "codemirror_mode": {
    "name": "ipython",
    "version": 3
   },
   "file_extension": ".py",
   "mimetype": "text/x-python",
   "name": "python",
   "nbconvert_exporter": "python",
   "pygments_lexer": "ipython3",
   "version": "3.7.4"
  }
 },
 "nbformat": 4,
 "nbformat_minor": 2
}
